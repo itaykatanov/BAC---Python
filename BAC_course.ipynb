{
 "cells": [
  {
   "cell_type": "markdown",
   "metadata": {},
   "source": [
    "Assignment 2 - Itay Katanov"
   ]
  },
  {
   "cell_type": "code",
   "execution_count": 74,
   "metadata": {},
   "outputs": [],
   "source": [
    "import pandas as pd\n",
    "import numpy as np\n",
    "import matplotlib.pyplot as plt\n",
    "import matplotlib.patches as mpatches\n",
    "from matplotlib.gridspec import GridSpec\n",
    "from matplotlib.ticker import FuncFormatter\n",
    "import matplotlib.dates as mdates"
   ]
  },
  {
   "cell_type": "code",
   "execution_count": 3,
   "metadata": {},
   "outputs": [],
   "source": [
    "#Load Data\n",
    "vaccination_tweets_df = pd.read_csv(\"vaccination_all_tweets.csv\") "
   ]
  },
  {
   "cell_type": "markdown",
   "metadata": {},
   "source": [
    "# Part 1"
   ]
  },
  {
   "cell_type": "markdown",
   "metadata": {},
   "source": [
    "## Task 1"
   ]
  },
  {
   "cell_type": "markdown",
   "metadata": {},
   "source": [
    "* Report the number of rows and the number of columns in the dataset."
   ]
  },
  {
   "cell_type": "code",
   "execution_count": 4,
   "metadata": {},
   "outputs": [
    {
     "name": "stdout",
     "output_type": "stream",
     "text": [
      "Number of rows is 27809 and the number of columns is 16 in the dataset.\n"
     ]
    }
   ],
   "source": [
    "#Report the number of rows and the number of columns in the dataset.\n",
    "print(\"Number of rows is %d and the number of columns is %d in the dataset.\"%(len(vaccination_tweets_df), len(vaccination_tweets_df.columns)))"
   ]
  },
  {
   "cell_type": "markdown",
   "metadata": {},
   "source": [
    "* Report the structure of the data."
   ]
  },
  {
   "cell_type": "code",
   "execution_count": 5,
   "metadata": {
    "scrolled": true
   },
   "outputs": [
    {
     "name": "stdout",
     "output_type": "stream",
     "text": [
      "<class 'pandas.core.frame.DataFrame'>\n",
      "RangeIndex: 27809 entries, 0 to 27808\n",
      "Data columns (total 16 columns):\n",
      " #   Column            Non-Null Count  Dtype \n",
      "---  ------            --------------  ----- \n",
      " 0   id                27809 non-null  int64 \n",
      " 1   user_name         27809 non-null  object\n",
      " 2   user_location     21363 non-null  object\n",
      " 3   user_description  25863 non-null  object\n",
      " 4   user_created      27809 non-null  object\n",
      " 5   user_followers    27809 non-null  int64 \n",
      " 6   user_friends      27809 non-null  int64 \n",
      " 7   user_favourites   27809 non-null  int64 \n",
      " 8   user_verified     27809 non-null  bool  \n",
      " 9   date              27809 non-null  object\n",
      " 10  text              27809 non-null  object\n",
      " 11  hashtags          21946 non-null  object\n",
      " 12  source            27794 non-null  object\n",
      " 13  retweets          27809 non-null  int64 \n",
      " 14  favorites         27809 non-null  int64 \n",
      " 15  is_retweet        27809 non-null  bool  \n",
      "dtypes: bool(2), int64(6), object(8)\n",
      "memory usage: 3.0+ MB\n",
      "None\n"
     ]
    }
   ],
   "source": [
    "#Report the structure of the data and calculate descriptive statistics for all numeric columns. \n",
    "#Descriptiv e statistics include the mean, standard deviation, maximum and minimum.\n",
    "print(vaccination_tweets_df.info())"
   ]
  },
  {
   "cell_type": "markdown",
   "metadata": {},
   "source": [
    "Numeric columns descriptive statistics:"
   ]
  },
  {
   "cell_type": "code",
   "execution_count": 6,
   "metadata": {},
   "outputs": [
    {
     "name": "stdout",
     "output_type": "stream",
     "text": [
      "                 id  user_followers   user_friends  user_favourites  \\\n",
      "count  2.780900e+04    2.780900e+04   27809.000000     2.780900e+04   \n",
      "mean   1.361958e+18    1.172269e+05    1306.935165     1.455530e+04   \n",
      "std    8.251514e+15    9.072728e+05    6541.832115     4.063751e+04   \n",
      "min    1.337728e+18    0.000000e+00       0.000000     0.000000e+00   \n",
      "25%    1.359557e+18    1.170000e+02     140.000000     3.190000e+02   \n",
      "50%    1.365093e+18    5.730000e+02     414.000000     2.014000e+03   \n",
      "75%    1.367348e+18    3.061000e+03    1178.000000     1.078200e+04   \n",
      "max    1.371026e+18    1.486666e+07  380428.000000     1.205878e+06   \n",
      "\n",
      "           retweets     favorites  \n",
      "count  27809.000000  27809.000000  \n",
      "mean       3.389478     14.404761  \n",
      "std       36.582408    197.615420  \n",
      "min        0.000000      0.000000  \n",
      "25%        0.000000      0.000000  \n",
      "50%        0.000000      1.000000  \n",
      "75%        1.000000      4.000000  \n",
      "max     2360.000000  22815.000000  \n"
     ]
    }
   ],
   "source": [
    "# describe() function only takes numeric columns\n",
    "print(vaccination_tweets_df.describe())"
   ]
  },
  {
   "cell_type": "markdown",
   "metadata": {},
   "source": [
    "* Print number of unique values for all columns of type object in ascending order."
   ]
  },
  {
   "cell_type": "code",
   "execution_count": 8,
   "metadata": {},
   "outputs": [
    {
     "name": "stdout",
     "output_type": "stream",
     "text": [
      "Number of unique value for column date (type 'object') is: 27534.\n",
      "Number of unique value for column hashtags (type 'object') is: 10751.\n",
      "Number of unique value for column source (type 'object') is: 133.\n",
      "Number of unique value for column text (type 'object') is: 27784.\n",
      "Number of unique value for column user_created (type 'object') is: 16052.\n",
      "Number of unique value for column user_description (type 'object') is: 15129.\n",
      "Number of unique value for column user_location (type 'object') is: 6116.\n",
      "Number of unique value for column user_name (type 'object') is: 15924.\n"
     ]
    }
   ],
   "source": [
    "# In ascending order, print the number of unique values for all columns of type object\n",
    "for column in sorted(vaccination_tweets_df.select_dtypes(include='object').columns):\n",
    "    print(\"Number of unique value for column %s (type 'object') is: %d.\" %(column, len(pd.unique(vaccination_tweets_df[column]))))"
   ]
  },
  {
   "cell_type": "markdown",
   "metadata": {},
   "source": [
    "* Print the proportion of True values for all columns of type bool in descending order."
   ]
  },
  {
   "cell_type": "code",
   "execution_count": 9,
   "metadata": {},
   "outputs": [
    {
     "name": "stdout",
     "output_type": "stream",
     "text": [
      "The proportion of True value for column user_verified (type 'bool') is: 12.22.\n",
      "The proportion of True value for column is_retweet (type 'bool') is: 0.00.\n"
     ]
    }
   ],
   "source": [
    "#In descending order, print the proportion of True values for all columns of type bool.\n",
    "for column in sorted(vaccination_tweets_df.select_dtypes(include='bool').columns, reverse=True):\n",
    "    true_proportion = sum(vaccination_tweets_df[column])*100/len(vaccination_tweets_df[column])\n",
    "    print(\"The proportion of True value for column %s (type 'bool') is: %.2f.\" %(column, true_proportion))"
   ]
  },
  {
   "cell_type": "markdown",
   "metadata": {},
   "source": [
    "## Task 2"
   ]
  },
  {
   "cell_type": "markdown",
   "metadata": {},
   "source": [
    "* Create a new column tweet_length and plot an histogram."
   ]
  },
  {
   "cell_type": "code",
   "execution_count": 10,
   "metadata": {},
   "outputs": [],
   "source": [
    "# Create a new column tweet_length equal to the number of characters in each tweet. Create a\n",
    "# histogram showing the distribution of values in this new column using 25 bins with\n",
    "# appropriate customisations. Interpret the plot.\n",
    "vaccination_tweets_df['tweet_length'] = vaccination_tweets_df['text'].str.len()"
   ]
  },
  {
   "cell_type": "code",
   "execution_count": 11,
   "metadata": {},
   "outputs": [
    {
     "data": {
      "text/plain": [
       "count    27809.000000\n",
       "mean       127.161746\n",
       "std         23.236837\n",
       "min         13.000000\n",
       "25%        127.000000\n",
       "50%        139.000000\n",
       "75%        140.000000\n",
       "max        152.000000\n",
       "Name: tweet_length, dtype: float64"
      ]
     },
     "execution_count": 11,
     "metadata": {},
     "output_type": "execute_result"
    }
   ],
   "source": [
    "vaccination_tweets_df['tweet_length'].describe()"
   ]
  },
  {
   "cell_type": "code",
   "execution_count": 12,
   "metadata": {},
   "outputs": [
    {
     "data": {
      "image/png": "[encoded data removed]",
      "text/plain": [
       "<Figure size 432x288 with 1 Axes>"
      ]
     },
     "metadata": {
      "needs_background": "light"
     },
     "output_type": "display_data"
    }
   ],
   "source": [
    "vaccination_tweets_df['tweet_length'].plot.hist(bins=25, color='#607c8e')\n",
    "plt.title('Distribution of tweet length')\n",
    "plt.xlabel('Tweets length')\n",
    "plt.ylabel('Counts')\n",
    "plt.grid(axis='y', alpha=0.75)\n",
    "plt.show()"
   ]
  },
  {
   "cell_type": "markdown",
   "metadata": {},
   "source": [
    "We can see that the majority (16k tweets) of tweets is around 139 length (which is also the median).  \n",
    "We can see the distribution has a long left tail."
   ]
  },
  {
   "cell_type": "markdown",
   "metadata": {},
   "source": [
    "* Create a new column retweet_prop and inspect it."
   ]
  },
  {
   "cell_type": "code",
   "execution_count": 13,
   "metadata": {},
   "outputs": [
    {
     "data": {
      "text/plain": [
       "count    2.764300e+04\n",
       "mean              inf\n",
       "std               NaN\n",
       "min      0.000000e+00\n",
       "25%      0.000000e+00\n",
       "50%      0.000000e+00\n",
       "75%      4.841450e-04\n",
       "max               inf\n",
       "Name: retweet_prop, dtype: float64"
      ]
     },
     "execution_count": 13,
     "metadata": {},
     "output_type": "execute_result"
    }
   ],
   "source": [
    "# Create a new column retweet_prop equal to the number of retweets divided by the number of\n",
    "# followers. Inspect this column. What problem has occurred?\n",
    "vaccination_tweets_df['retweet_prop'] = vaccination_tweets_df['retweets']/vaccination_tweets_df['user_followers']\n",
    "vaccination_tweets_df['retweet_prop'].describe()"
   ]
  },
  {
   "cell_type": "markdown",
   "metadata": {},
   "source": [
    "The problem with the coulmn is the we get inf/NaN value for some values. This is probably because we have missing value/user the do not have followers, so when dividing with it we get an error."
   ]
  },
  {
   "cell_type": "markdown",
   "metadata": {
    "pycharm": {
     "name": "#%% md\n"
    }
   },
   "source": [
    "* Histogram for retweet_prop which are less than or equal 1."
   ]
  },
  {
   "cell_type": "code",
   "execution_count": 14,
   "metadata": {
    "pycharm": {
     "name": "#%%\n"
    }
   },
   "outputs": [
    {
     "data": {
      "image/png": "[encoded data removed]",
      "text/plain": [
       "<Figure size 432x288 with 1 Axes>"
      ]
     },
     "metadata": {
      "needs_background": "light"
     },
     "output_type": "display_data"
    }
   ],
   "source": [
    "#For tweets where retweet_prop is less than or equal to 1, create a histogram coloured by\n",
    "#whether the user is verified. Add reasonable customisations to the plot and interpret it.\n",
    "bins = np.linspace(0, 1, 40)\n",
    "plt.hist(vaccination_tweets_df.loc[(vaccination_tweets_df['retweet_prop']<=1) \n",
    "            & (vaccination_tweets_df['user_verified']==False), \"retweet_prop\"], bins=bins, label=\"user not verified\")\n",
    "plt.hist(vaccination_tweets_df.loc[(vaccination_tweets_df['retweet_prop']<=1) \n",
    "            & (vaccination_tweets_df['user_verified']==True), \"retweet_prop\"],bins=bins, label=\"user verified\")\n",
    "plt.title('Histogram retweet_Prop <= 1')\n",
    "plt.legend(loc='upper right', shadow=True)\n",
    "plt.grid(axis='y', alpha=0.75)\n",
    "plt.xlabel('retweet proportion')\n",
    "plt.ylabel('Counts')\n",
    "plt.show()"
   ]
  },
  {
   "cell_type": "markdown",
   "metadata": {
    "pycharm": {
     "name": "#%% md\n"
    }
   },
   "source": [
    "Interpretation: The vast majority of retweets ratios is close to 0. This makes sense as most tweets are not retweeted.<br>\n",
    "This is true both for verified and unverified users. We can see that are much more unverified users with low <br>\n",
    "retweet_prop, which also makes sense because people will not retweet someone who is not verified (maybe it is a bot or something)."
   ]
  },
  {
   "cell_type": "markdown",
   "metadata": {},
   "source": [
    "## Task 3"
   ]
  },
  {
   "cell_type": "markdown",
   "metadata": {},
   "source": [
    "• Create a new column called account_year reporting the year the account associated with each tweet was created. Create a stacked bar chart showing the number of verified and unverified accounts created each year. Include appropriate customisation."
   ]
  },
  {
   "cell_type": "code",
   "execution_count": 15,
   "metadata": {},
   "outputs": [],
   "source": [
    "vaccination_tweets_df['account_year'] =  pd.to_datetime(vaccination_tweets_df.user_created).dt.year"
   ]
  },
  {
   "cell_type": "code",
   "execution_count": 16,
   "metadata": {
    "scrolled": true
   },
   "outputs": [],
   "source": [
    "#preper data frame for plotting\n",
    "total_users_per_year = vaccination_tweets_df.groupby( by = \"account_year\").size()\n",
    "verified_users_per_year = vaccination_tweets_df[vaccination_tweets_df['user_verified']].groupby( by = \"account_year\").size()\n",
    "not_verified_users = total_users_per_year.sub(verified_users_per_year, fill_value=0)\n",
    "data = {\"verified\": verified_users_per_year,\n",
    "       \"not verified\": not_verified_users}\n",
    "plot_df = pd.concat(data, axis=1).fillna(0).astype(int)"
   ]
  },
  {
   "cell_type": "code",
   "execution_count": 17,
   "metadata": {},
   "outputs": [
    {
     "data": {
      "image/png": "[encoded data removed]",
      "text/plain": [
       "<Figure size 432x288 with 1 Axes>"
      ]
     },
     "metadata": {
      "needs_background": "light"
     },
     "output_type": "display_data"
    }
   ],
   "source": [
    "plot_df.plot.bar(stacked=True)\n",
    "plt.title('Verified vs. not-verified users')\n",
    "plt.xlabel('Year')\n",
    "plt.ylabel('Counts')\n",
    "plt.grid(axis='y', alpha=0.75)\n",
    "plt.xticks(rotation=45)\n",
    "plt.show()"
   ]
  },
  {
   "cell_type": "markdown",
   "metadata": {
    "pycharm": {
     "name": "#%% md\n"
    }
   },
   "source": [
    "We can see the most of the users per year are not verified."
   ]
  },
  {
   "cell_type": "markdown",
   "metadata": {
    "pycharm": {
     "name": "#%% md\n"
    }
   },
   "source": [
    "• The source column takes a lot of different values, but only a few are common. Identify the five most common values of the source column, then modify the column to change all other values to be “Other”."
   ]
  },
  {
   "cell_type": "code",
   "execution_count": 18,
   "metadata": {},
   "outputs": [],
   "source": [
    "top_5_sources = vaccination_tweets_df[\"source\"].value_counts()[:5].index.tolist()\n",
    "#Replace value to 'Other'\n",
    "vaccination_tweets_df.loc[vaccination_tweets_df[\"source\"].isin(top_5_sources) == False, \"source\"] = \"Other\""
   ]
  },
  {
   "cell_type": "markdown",
   "metadata": {},
   "source": [
    "• Create a pie chart showing the breakdown of the categories in the newly modified source variable. Display the percentage of each category on the pie chart. Interpret the plot."
   ]
  },
  {
   "cell_type": "code",
   "execution_count": 22,
   "metadata": {},
   "outputs": [
    {
     "data": {
      "image/png": "[encoded data removed]",
      "text/plain": [
       "<Figure size 2880x1440 with 1 Axes>"
      ]
     },
     "metadata": {},
     "output_type": "display_data"
    }
   ],
   "source": [
    "#Prepare plot data\n",
    "source_type = vaccination_tweets_df.groupby('source').agg('count').id\n",
    "source_labels = source_type.sort_values().index  \n",
    "source_counts = source_type.sort_values()\n",
    "#Plot it.\n",
    "plt.figure(1, figsize=(40,20))\n",
    "the_grid = GridSpec(2, 2)\n",
    "cmap = plt.get_cmap('Spectral')\n",
    "colors = [cmap(i) for i in np.linspace(0, 1, 8)]\n",
    "plt.subplot(the_grid[0, 1], aspect=1, title='Breakdown of \"source\" variable')\n",
    "type_show_ids = plt.pie(source_counts, labels=source_labels, autopct='%1.1f%%', shadow=True, colors=colors)\n",
    "plt.show()"
   ]
  },
  {
   "cell_type": "markdown",
   "metadata": {
    "pycharm": {
     "name": "#%% md\n"
    }
   },
   "source": [
    "We can see that about 85% of the source catagory is coming from Android, Iphone and Web app. The last 15% are divided between Ipad, Deck and 'Other'.\n",
    "So the majoirty of tweeters are using Twitter by their phone or web app."
   ]
  },
  {
   "cell_type": "markdown",
   "metadata": {
    "pycharm": {
     "name": "#%% md\n"
    }
   },
   "source": [
    "• Create a column that shows how many minutes have passed each day by the time the tweet was made (e.g., a tweet at 17:52:03 becomes 1072.05). Create a histogram showing the distribution of times that tweets are made at with appropriate customisations."
   ]
  },
  {
   "cell_type": "code",
   "execution_count": 23,
   "metadata": {},
   "outputs": [
    {
     "data": {
      "image/png": "[encoded data removed]",
      "text/plain": [
       "<Figure size 432x288 with 1 Axes>"
      ]
     },
     "metadata": {
      "needs_background": "light"
     },
     "output_type": "display_data"
    }
   ],
   "source": [
    "#Change 'date' to datetime\n",
    "vaccination_tweets_df[\"date\"] =  pd.to_datetime(vaccination_tweets_df[\"date\"])\n",
    "#Create a new column and calculate minutes passed each day\n",
    "hours = vaccination_tweets_df[\"date\"].dt.hour*60\n",
    "minutes = vaccination_tweets_df[\"date\"].dt.minute\n",
    "seconds = vaccination_tweets_df[\"date\"].dt.second/60\n",
    "vaccination_tweets_df['minutes_passed_day'] =  hours +  minutes + seconds\n",
    "#Plot histogram:\n",
    "vaccination_tweets_df['minutes_passed_day'].plot.hist(color='green')\n",
    "plt.title('Time of tweet histogram')\n",
    "plt.xlabel('Minutes of a day')\n",
    "plt.ylabel('Counts')\n",
    "plt.grid(axis='y', alpha=0.75)\n",
    "plt.show()"
   ]
  },
  {
   "cell_type": "markdown",
   "metadata": {
    "pycharm": {
     "name": "#%% md\n"
    }
   },
   "source": [
    "## Task 4"
   ]
  },
  {
   "cell_type": "markdown",
   "metadata": {
    "pycharm": {
     "name": "#%% md\n"
    }
   },
   "source": [
    "• What is the maximum number of characters associated with a single hashtag? For example, the ‘Pfizer’ hashtag has 6 characters."
   ]
  },
  {
   "cell_type": "code",
   "execution_count": 24,
   "metadata": {},
   "outputs": [],
   "source": [
    "def split_hashtag_to_array(hashtag_input):\n",
    "    \"\"\"\n",
    "    This function get a single hastag, breaks it down to an array and returns the array.\n",
    "    If the hashtag is enmpty (i.e. 'nan'), then it returns an empty array.\n",
    "    \"\"\"\n",
    "    hashtag_array = []\n",
    "    if (str(hashtag_input)!='nan'):\n",
    "        hashtag_array = hashtag_input.split(\",\")\n",
    "        hashtag_array = [hashtag.replace(\"'\", \"\").replace(\",\",\"\").replace(\"[\",\"\").replace(\"]\",\"\").strip() for hashtag in hashtag_array]\n",
    "    return hashtag_array"
   ]
  },
  {
   "cell_type": "code",
   "execution_count": 25,
   "metadata": {},
   "outputs": [],
   "source": [
    "def get_max_hashtag(hashtag_input):\n",
    "    \"\"\"\n",
    "    This function get a single hastag, breaks it down to an array and return the length of the longest hashtag.\n",
    "    If the hashtag is enmpty (i.e. 'nan'), then it returns 0.\n",
    "    \"\"\"\n",
    "    hashtag_array = split_hashtag_to_array(hashtag_input)\n",
    "    if (len(hashtag_array)>0):\n",
    "        return len(max(hashtag_array, key=len))\n",
    "    else:\n",
    "        return 0 "
   ]
  },
  {
   "cell_type": "code",
   "execution_count": 28,
   "metadata": {},
   "outputs": [
    {
     "name": "stdout",
     "output_type": "stream",
     "text": [
      "Maximum number of charchater for a single hashtag is 41.\n"
     ]
    }
   ],
   "source": [
    "#Appply the function on each hashtag\n",
    "vaccination_tweets_df[\"max_hashtag_length\"] = vaccination_tweets_df[\"hashtags\"].apply(get_max_hashtag)\n",
    "print(\"Maximum number of charchater for a single hashtag is %d.\"% max(vaccination_tweets_df[\"max_hashtag_length\"]))"
   ]
  },
  {
   "cell_type": "markdown",
   "metadata": {},
   "source": [
    "• Create three columns corresponding to whether each tweet mentioned Pfizer, Moderna, or AstraZeneca. Create a line plot with three lines corresponding to the number of times Pfizer, Moderna, or AstraZeneca was mentioned. Your x-axis should be the date."
   ]
  },
  {
   "cell_type": "code",
   "execution_count": 29,
   "metadata": {},
   "outputs": [],
   "source": [
    "#Init 3 new columns\n",
    "vaccination_tweets_df[\"pfizer_tweet\"] = 0\n",
    "vaccination_tweets_df[\"moderna_tweet\"] = 0\n",
    "vaccination_tweets_df[\"astraZ_zneca_tweet\"] = 0"
   ]
  },
  {
   "cell_type": "code",
   "execution_count": 30,
   "metadata": {
    "pycharm": {
     "name": "#%%\n"
    }
   },
   "outputs": [],
   "source": [
    "def check_hashtag_for_word(hashtag_input, phrase):\n",
    "    \"\"\"\n",
    "    This function get two arguments: a hastag and a phrase. \n",
    "    It breaks the hashtag down to an array and return 1 is the phrase is found within the hashtag, 0 otherwise.\n",
    "    \"\"\"\n",
    "    hashtag_array = split_hashtag_to_array(hashtag_input)\n",
    "    if (len(hashtag_array)>0):\n",
    "        if phrase in hashtag_array:\n",
    "            return 1\n",
    "    return 0"
   ]
  },
  {
   "cell_type": "code",
   "execution_count": 32,
   "metadata": {
    "pycharm": {
     "name": "#%%\n"
    }
   },
   "outputs": [],
   "source": [
    "#Apply function to each column\n",
    "vaccination_tweets_df[\"pfizer_tweet\"] = vaccination_tweets_df[\"hashtags\"].apply(check_hashtag_for_word, args=(\"Pfizer\",))\n",
    "vaccination_tweets_df[\"moderna_tweet\"] = vaccination_tweets_df[\"hashtags\"].apply(check_hashtag_for_word, args=(\"Moderna\",))\n",
    "vaccination_tweets_df[\"astraZ_zneca_tweet\"] = vaccination_tweets_df[\"hashtags\"].apply(check_hashtag_for_word, args=(\"AstraZeneca\",))"
   ]
  },
  {
   "cell_type": "code",
   "execution_count": 33,
   "metadata": {},
   "outputs": [
    {
     "data": {
      "image/png": "[encoded data removed]",
      "text/plain": [
       "<Figure size 432x288 with 1 Axes>"
      ]
     },
     "metadata": {
      "needs_background": "light"
     },
     "output_type": "display_data"
    }
   ],
   "source": [
    "#Prepere data to plot\n",
    "tweets_agg_df = vaccination_tweets_df.groupby(vaccination_tweets_df.date.dt.date)[[\"pfizer_tweet\", \"moderna_tweet\", \"astraZ_zneca_tweet\"]].sum()\n",
    "tweets_agg_df.columns = [\"Pfizer\", \"Moderna\", \"AstraZeneca\"]\n",
    "#Plot it\n",
    "tweets_agg_df.plot.line()\n",
    "plt.title('Number of mentioned tweets each day')\n",
    "plt.xlabel('Date')\n",
    "plt.ylabel('# of mentions')\n",
    "plt.xticks(rotation=45)\n",
    "plt.grid(axis='y', alpha=0.75)\n",
    "plt.show()"
   ]
  },
  {
   "cell_type": "markdown",
   "metadata": {
    "pycharm": {
     "name": "#%% md\n"
    }
   },
   "source": [
    "# Part 2 – AFL Modelling, Betting and Simulations (55 marks)"
   ]
  },
  {
   "cell_type": "code",
   "execution_count": 34,
   "metadata": {
    "pycharm": {
     "name": "#%%\n"
    }
   },
   "outputs": [],
   "source": [
    "#Load Data\n",
    "from datetime import datetime\n",
    "pred_data = pd.read_csv(\"AFL Predictions.csv\", parse_dates=[\"start_dt\"], date_parser=lambda x: datetime.strptime(x, '%Y-%m-%d %H:%M')) \n",
    "odds_data = pd.read_csv(\"AFL Odds.csv\")"
   ]
  },
  {
   "cell_type": "markdown",
   "metadata": {
    "pycharm": {
     "name": "#%% md\n"
    }
   },
   "source": [
    "## Task 1\n",
    "### Data preperation"
   ]
  },
  {
   "cell_type": "markdown",
   "metadata": {
    "pycharm": {
     "name": "#%% md\n"
    }
   },
   "source": [
    "1. Using the PredProbWin and HomeWin columns in the pred_data object, calculate the\n",
    "accuracy of predictions. A win is predicted if 𝑃𝑟𝑒𝑑𝑃𝑟𝑜𝑏𝑊𝑖𝑛 ≥ 0.5, otherwise a loss is\n",
    "predicted. Round your accuracy to 4 decimal places and print it as a percentage (e.g., 0.81234\n",
    "becomes 81.23%)."
   ]
  },
  {
   "cell_type": "code",
   "execution_count": 35,
   "metadata": {
    "pycharm": {
     "name": "#%%\n"
    }
   },
   "outputs": [
    {
     "name": "stdout",
     "output_type": "stream",
     "text": [
      "The accuracy of predictions is: 70.35%\n"
     ]
    }
   ],
   "source": [
    "pred_data['PredProbWin_class'] = np.where((pred_data.PredProbWin >= 0.5), 1, 0)\n",
    "accuracy = sum(pred_data['PredProbWin_class']==pred_data['HomeWin'])*100/len(pred_data['PredProbWin_class'])\n",
    "print(\"The accuracy of predictions is: %.2f%%\"%(accuracy))"
   ]
  },
  {
   "cell_type": "markdown",
   "metadata": {
    "pycharm": {
     "name": "#%% md\n"
    }
   },
   "source": [
    "2. Using the Date and Start_Time columns in the odds_data object, create a start_dt column\n",
    "matching the format of the same column in the pred_data object. Print a random sample of 5\n",
    "rows of the odds_data object with the new column."
   ]
  },
  {
   "cell_type": "code",
   "execution_count": 38,
   "metadata": {
    "pycharm": {
     "name": "#%%\n"
    }
   },
   "outputs": [
    {
     "name": "stdout",
     "output_type": "stream",
     "text": [
      "81     2016-04-03 16:40:00\n",
      "485    2014-04-06 19:10:00\n",
      "1140   2010-08-22 14:40:00\n",
      "1148   2010-08-15 16:40:00\n",
      "311    2014-09-06 19:15:00\n",
      "Name: start_dt, dtype: datetime64[ns]\n"
     ]
    }
   ],
   "source": [
    "#Combine 3 columns to one\n",
    "odds_data[\"start_dt\"] = odds_data['Date'].astype('str') +\" \"+ odds_data['Start_Time'].astype('str')\n",
    "# change to datetime object\n",
    "odds_data[\"start_dt\"] = pd.to_datetime(odds_data[\"start_dt\"])\n",
    "#sample 5 dates\n",
    "print(odds_data[\"start_dt\"].sample(5))"
   ]
  },
  {
   "cell_type": "markdown",
   "metadata": {
    "pycharm": {
     "name": "#%% md\n"
    }
   },
   "source": [
    "3. Report the number of start_dt values in the pred_data object that are also in the start_dt\n",
    "column of the odds_data. Also report the number of unique values of the start_dt column of\n",
    "pred_data."
   ]
  },
  {
   "cell_type": "code",
   "execution_count": 33,
   "metadata": {
    "pycharm": {
     "name": "#%%\n"
    }
   },
   "outputs": [
    {
     "name": "stdout",
     "output_type": "stream",
     "text": [
      "Number of shared start_dt between pred_data andd odd_data is 513.\n"
     ]
    }
   ],
   "source": [
    "# Get dates that are in both datasets\n",
    "intersect_dates = len(pd.Series(list(set(pred_data['start_dt']).intersection(set(odds_data['start_dt'])))))\n",
    "print(\"Number of shared start_dt between pred_data andd odd_data is %d.\" %(intersect_dates))"
   ]
  },
  {
   "cell_type": "code",
   "execution_count": 39,
   "metadata": {},
   "outputs": [
    {
     "name": "stdout",
     "output_type": "stream",
     "text": [
      "Number of unique values in start_dt column of pred_data is 524.\n"
     ]
    }
   ],
   "source": [
    "# Number of unique values of start_date in pred_data\n",
    "unique_dates = len(np.unique(pred_data['start_dt']))\n",
    "print(\"Number of unique values in start_dt column of pred_data is %d.\" %(unique_dates))"
   ]
  },
  {
   "cell_type": "markdown",
   "metadata": {
    "pycharm": {
     "name": "#%% md\n"
    }
   },
   "source": [
    "4. Create a margin column for the odds_data object representing the absolute difference of the\n",
    "home score and away score."
   ]
  },
  {
   "cell_type": "code",
   "execution_count": 41,
   "metadata": {
    "pycharm": {
     "name": "#%%\n"
    }
   },
   "outputs": [],
   "source": [
    "#Crate new column\n",
    "odds_data['margin'] = abs(odds_data['Home_Score'] - odds_data['Away_Score'])"
   ]
  },
  {
   "cell_type": "markdown",
   "metadata": {
    "pycharm": {
     "name": "#%% md\n"
    }
   },
   "source": [
    "5. Use the start_dt and margin columns in both datasets to add the Home_Odds and Away_Odds\n",
    "columns to the pred_data object (Answer check: your final DataFrame object should have\n",
    "532 rows)."
   ]
  },
  {
   "cell_type": "code",
   "execution_count": 45,
   "metadata": {},
   "outputs": [],
   "source": [
    "#crate new df that combines pred_data df with adds_data\n",
    "combined_df = pd.merge(pred_data, \n",
    "                     odds_data[['start_dt', 'margin', 'Home_Odds','Away_Odds']] , \n",
    "                     on =['start_dt', 'margin'], \n",
    "                     how ='inner')"
   ]
  },
  {
   "cell_type": "markdown",
   "metadata": {},
   "source": [
    "6. Using the newly added Home_Odds column in the pred_data, create a new Odds_Prob\n",
    "column representing the probability of the home team winning implied by the betting odds.\n",
    "Calculate this column with the following formula:\n",
    "𝑂𝑑𝑑𝑠_𝑃𝑟𝑜𝑏 = 1 − [(𝐻𝑜𝑚𝑒_𝑂𝑑𝑑𝑠 − 1)/(𝐻𝑜𝑚𝑒_𝑂𝑑𝑑𝑠)]"
   ]
  },
  {
   "cell_type": "code",
   "execution_count": 46,
   "metadata": {},
   "outputs": [
    {
     "name": "stdout",
     "output_type": "stream",
     "text": [
      "<class 'pandas.core.frame.DataFrame'>\n",
      "Int64Index: 532 entries, 0 to 531\n",
      "Data columns (total 20 columns):\n",
      " #   Column             Non-Null Count  Dtype         \n",
      "---  ------             --------------  -----         \n",
      " 0   mid                532 non-null    object        \n",
      " 1   season             532 non-null    int64         \n",
      " 2   start_dt           532 non-null    datetime64[ns]\n",
      " 3   margin             532 non-null    int64         \n",
      " 4   win_tid            532 non-null    int64         \n",
      " 5   lose_tid           532 non-null    int64         \n",
      " 6   win_score          532 non-null    int64         \n",
      " 7   lose_score         532 non-null    int64         \n",
      " 8   HomeWin            532 non-null    int64         \n",
      " 9   HomeMarginRA       532 non-null    float64       \n",
      " 10  AwayMarginRA       532 non-null    float64       \n",
      " 11  HomeKicksRA        532 non-null    float64       \n",
      " 12  Trav_Distance      532 non-null    object        \n",
      " 13  WeightDifference   532 non-null    float64       \n",
      " 14  HeightDifference   532 non-null    float64       \n",
      " 15  PredProbWin        532 non-null    float64       \n",
      " 16  PredProbWin_class  532 non-null    int64         \n",
      " 17  Home_Odds          532 non-null    float64       \n",
      " 18  Away_Odds          532 non-null    float64       \n",
      " 19  Odds_Prob          532 non-null    float64       \n",
      "dtypes: datetime64[ns](1), float64(9), int64(8), object(2)\n",
      "memory usage: 87.3+ KB\n"
     ]
    }
   ],
   "source": [
    "# Create new column\n",
    "combined_df['Odds_Prob'] = 1-((combined_df['Home_Odds']-1)/combined_df['Home_Odds'])\n",
    "# Check new df\n",
    "combined_df.info()"
   ]
  },
  {
   "cell_type": "markdown",
   "metadata": {},
   "source": [
    "## Task 2\n",
    "\n",
    "### Simulate betting strategy"
   ]
  },
  {
   "cell_type": "code",
   "execution_count": 61,
   "metadata": {
    "pycharm": {
     "name": "#%%\n"
    }
   },
   "outputs": [],
   "source": [
    "def get_bet(mid):\n",
    "    \"\"\"\n",
    "    This function get a game record as input and returns 1 for Home bet, -1 for Away bet, \n",
    "    and 0 in case no bet has take place.\n",
    "    \"\"\"\n",
    "    if (mid['PredProbWin']>=0.5) & (mid['PredProbWin']>=mid['Odds_Prob']):\n",
    "        return 1\n",
    "    elif (mid['PredProbWin']<0.5) & (mid['PredProbWin']<mid['Odds_Prob']):\n",
    "        return -1\n",
    "    return 0"
   ]
  },
  {
   "cell_type": "code",
   "execution_count": 62,
   "metadata": {},
   "outputs": [],
   "source": [
    "def get_bet_result(mid, current_bet):\n",
    "    \"\"\"\n",
    "    This function gets 2 arguments: game record and bet value.\n",
    "    It return the the bet result:\n",
    "    If the game ended in tie - the user loses his bet.\n",
    "    If the user bet on the winning team, it returs the bet value + winnings.\n",
    "    If the user bet on the wrong tean - he loses his bet.\n",
    "    \"\"\"\n",
    "    #if game ends in tie\n",
    "    if (mid['win_tid']==mid['lose_tid']):\n",
    "        #print(\"Tie. You lost your bet\")\n",
    "        return -abs(current_bet)\n",
    "    #if game ends in home team win and we bet on it\n",
    "    if (current_bet>0) & (mid['HomeWin']==1):\n",
    "        #print(\"Won bet\")\n",
    "        return current_bet*mid['Home_Odds']\n",
    "    #if game ends in away team win and we bet on it\n",
    "    if (current_bet<0) & (mid['HomeWin']==0):\n",
    "        #print(\"Won bet\")\n",
    "        return abs(current_bet*mid['Away_Odds'])\n",
    "    #print(\"lost bet\")\n",
    "    return -abs(current_bet)"
   ]
  },
  {
   "cell_type": "markdown",
   "metadata": {
    "pycharm": {
     "name": "#%% md\n"
    }
   },
   "source": [
    "For tweets where retweet_prop is less than or equal to 1, create a histogram coloured by\n",
    "whether the user is verified. Add reasonable customisations to the plot and interpret it."
   ]
  },
  {
   "cell_type": "code",
   "execution_count": 81,
   "metadata": {
    "pycharm": {
     "name": "#%%\n"
    }
   },
   "outputs": [],
   "source": [
    "def millions(x, pos):\n",
    "    \"\"\"\n",
    "    This is a help function to change the y axis to be on Millions\n",
    "    The two args are the value and tick position.\n",
    "    \"\"\"\n",
    "    return '{:1.1f}M'.format(x*1e-6)"
   ]
  },
  {
   "cell_type": "code",
   "execution_count": 64,
   "metadata": {},
   "outputs": [],
   "source": [
    "def Average(lst):\n",
    "    \"\"\"Calcualtes the mean of a list\"\"\"\n",
    "    return sum(lst) / len(lst)"
   ]
  },
  {
   "cell_type": "markdown",
   "metadata": {
    "pycharm": {
     "name": "#%% md\n"
    }
   },
   "source": [
    "#### Game simulation"
   ]
  },
  {
   "cell_type": "code",
   "execution_count": 84,
   "metadata": {},
   "outputs": [
    {
     "name": "stdout",
     "output_type": "stream",
     "text": [
      "The average capital for game number 1 is 828110.32\n",
      "The average capital for game number 2 is 248.87\n",
      "The average capital for game number 3 is 128761.01\n",
      "The average capital for game number 4 is 9210.78\n",
      "The average capital for game number 5 is 1566.02\n",
      "The average capital for game number 6 is 1119949.95\n",
      "The average capital for game number 7 is 371.72\n",
      "The average capital for game number 8 is 12333.64\n",
      "The average capital for game number 9 is 572.38\n",
      "The average capital for game number 10 is 3850.07\n"
     ]
    },
    {
     "data": {
      "image/png": "[encoded data removed]",
      "text/plain": [
       "<Figure size 432x288 with 1 Axes>"
      ]
     },
     "metadata": {
      "needs_background": "light"
     },
     "output_type": "display_data"
    }
   ],
   "source": [
    "#Init game dictionary to store outcomes.\n",
    "games_list = {}\n",
    "#Simulate 10 games\n",
    "for game in range(1,11):\n",
    "    #print(\"Starting game number %d\"%(game))\n",
    "    #Init simulation variables\n",
    "    capital = 1000\n",
    "    simulation_list=[capital]\n",
    "    #Sample 100 games for simulation\n",
    "    for index, selected_mid in combined_df.sample(n=100).iterrows():\n",
    "        current_bet = capital*0.5*(get_bet(selected_mid))\n",
    "        #print(\"current_bet: %.2f\"%(current_bet))\n",
    "        bet_result = get_bet_result(selected_mid, current_bet)\n",
    "        #print(\"bet_result: %.2f\"%(bet_result))\n",
    "        #Update capital according to bet outcome\n",
    "        capital = capital+bet_result\n",
    "        #Save simulation result\n",
    "        simulation_list.append(capital)\n",
    "    #average capital at the end of the 100 games\n",
    "    mean = Average(simulation_list)\n",
    "    print(\"The average capital for game number %d is %.2f\"%(game, mean))\n",
    "    game_name = \"game_\"+str(game)\n",
    "    #Save game simulation\n",
    "    games_list[game_name] = simulation_list\n",
    "    #print(\"Finshed game number %d\"%(game))\n",
    "\n",
    "##Simulation Ended\n",
    "    \n",
    "#Line plot each game   \n",
    "for key, value in games_list.items():\n",
    "    zeros_array = [0]*(101-len(value))\n",
    "    games_list[key] = value + zeros_array\n",
    "    plt.plot(games_list[key], label=key)\n",
    "    #red_patch = mpatches.Patch(color='red', label=key)\n",
    "    #plt.legend(label=key)\n",
    "#Customize plot\n",
    "plt.title(\"Capital accross games\")\n",
    "plt.xlabel('Games Played')\n",
    "plt.ylabel('Capital')\n",
    "#plt.legend(title='title', bbox_to_anchor=(1.05, 1), loc='upper left', prop=fontP)\n",
    "plt.grid(axis='y', alpha=0.75)\n",
    "plt.gca().yaxis.set_major_formatter(FuncFormatter(millions))\n",
    "plt.legend(loc='upper right', frameon=True, fancybox=True, framealpha=1, shadow=True,\n",
    "           title=\"Game\",borderpad=1,bbox_to_anchor=(1.30, 1))\n",
    "plt.show()"
   ]
  },
  {
   "cell_type": "markdown",
   "metadata": {
    "pycharm": {
     "name": "#%% md\n"
    }
   },
   "source": [
    "## Task 3\n",
    "### Option 2"
   ]
  },
  {
   "cell_type": "markdown",
   "metadata": {
    "pycharm": {
     "name": "#%% md\n"
    }
   },
   "source": [
    "### Roulette program"
   ]
  },
  {
   "cell_type": "code",
   "execution_count": 85,
   "metadata": {
    "pycharm": {
     "name": "#%%\n"
    }
   },
   "outputs": [],
   "source": [
    "def roulette_wheel(starting_capital, starting_bet):\n",
    "    \"\"\"\n",
    "    The function simulate a single roulette game.\n",
    "    It takes two arguments: starting_capital and starting_bet\n",
    "    It return the profit or loss. The chances of winning are 47.4%.\n",
    "    \"\"\"\n",
    "    capital = starting_capital\n",
    "    bet = starting_bet\n",
    "    if (starting_bet>starting_capital):\n",
    "        raise Exception(\"You can't bet more than what you have.\")\n",
    "    while(True):\n",
    "        #Sample 1/0 from binomial distrebution with 47.4% chance.\n",
    "        prob_win = np.random.binomial(1, 0.474, 1)[0]\n",
    "        if (prob_win==1):\n",
    "            capital = capital + bet\n",
    "            #Return profit\n",
    "            #print(\"You won %d\" %(capital - starting_capital))\n",
    "            return capital - starting_capital\n",
    "        else:\n",
    "            #print(\"You Lost, double your bet.\")\n",
    "            capital = capital - bet\n",
    "            bet = bet*2\n",
    "            #print(\"Your capital left is: %d, and you want to bet on: %d\"%(capital,bet))\n",
    "            if(bet>capital):\n",
    "                #print(\"You do not have enough money to double your bet. Go home.\")\n",
    "                #print(\"You lost %d\"%(capital - starting_capital))\n",
    "                return capital - starting_capital"
   ]
  },
  {
   "cell_type": "markdown",
   "metadata": {},
   "source": [
    "Test the program"
   ]
  },
  {
   "cell_type": "code",
   "execution_count": 86,
   "metadata": {
    "pycharm": {
     "name": "#%%\n"
    }
   },
   "outputs": [
    {
     "data": {
      "text/plain": [
       "10"
      ]
     },
     "execution_count": 86,
     "metadata": {},
     "output_type": "execute_result"
    }
   ],
   "source": [
    "roulette_wheel(100, 10)"
   ]
  },
  {
   "cell_type": "markdown",
   "metadata": {},
   "source": [
    "## Simulation"
   ]
  },
  {
   "cell_type": "markdown",
   "metadata": {},
   "source": [
    "### 20 games simulation"
   ]
  },
  {
   "cell_type": "code",
   "execution_count": 87,
   "metadata": {
    "pycharm": {
     "name": "#%%\n"
    }
   },
   "outputs": [
    {
     "name": "stdout",
     "output_type": "stream",
     "text": [
      "After 20 games, the average profit is: 5.00$\n"
     ]
    }
   ],
   "source": [
    "games_list=[]\n",
    "starting_capital = 1275\n",
    "starting_bet = 5\n",
    "number_of_simulations = 20\n",
    "for i in range(1,number_of_simulations+1):\n",
    "    capital = roulette_wheel(starting_capital, starting_bet)\n",
    "    games_list.append(capital)\n",
    "    \n",
    "simulation_outcome = Average(games_list)\n",
    "if (simulation_outcome >0):\n",
    "    print(\"After %d games, the average profit is: %.2f$\"%(number_of_simulations, simulation_outcome))\n",
    "else:\n",
    "    print(\"After %d games, the average loss is: %.2f$\"%(number_of_simulations, simulation_outcome))"
   ]
  },
  {
   "cell_type": "markdown",
   "metadata": {},
   "source": [
    "### 500 games simulation"
   ]
  },
  {
   "cell_type": "code",
   "execution_count": 89,
   "metadata": {
    "pycharm": {
     "name": "#%%\n"
    }
   },
   "outputs": [
    {
     "name": "stdout",
     "output_type": "stream",
     "text": [
      "After 500 games, the average loss is: -7.83$\n"
     ]
    }
   ],
   "source": [
    "games_list=[]\n",
    "starting_capital = 1275\n",
    "starting_bet = 5\n",
    "number_of_simulations = 500\n",
    "for i in range(1,number_of_simulations):\n",
    "    capital = roulette_wheel(starting_capital, starting_bet)\n",
    "    games_list.append(capital)\n",
    "    \n",
    "simulation_outcome = Average(games_list)\n",
    "if (simulation_outcome >0):\n",
    "    print(\"After %d games, the average profit is: %.2f$\"%(number_of_simulations, simulation_outcome))\n",
    "else:\n",
    "    print(\"After %d games, the average loss is: %.2f$\"%(number_of_simulations, simulation_outcome))"
   ]
  },
  {
   "cell_type": "markdown",
   "metadata": {},
   "source": [
    "We can see that after 20 games, most of the time they ween, but when playing 500 games - most of the time they lose.  \n",
    "The casino alawys win!"
   ]
  }
 ],
 "metadata": {
  "kernelspec": {
   "display_name": "Python 3",
   "language": "python",
   "name": "python3"
  },
  "language_info": {
   "codemirror_mode": {
    "name": "ipython",
    "version": 3
   },
   "file_extension": ".py",
   "mimetype": "text/x-python",
   "name": "python",
   "nbconvert_exporter": "python",
   "pygments_lexer": "ipython3",
   "version": "3.7.7"
  }
 },
 "nbformat": 4,
 "nbformat_minor": 4
}
